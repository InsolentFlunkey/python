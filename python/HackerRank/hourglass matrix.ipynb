{
 "cells": [
  {
   "cell_type": "code",
   "execution_count": 1,
   "metadata": {},
   "outputs": [
    {
     "name": "stdout",
     "output_type": "stream",
     "text": [
      "Enter an integer: 12\n"
     ]
    },
    {
     "data": {
      "text/plain": [
       "'12'"
      ]
     },
     "execution_count": 1,
     "metadata": {},
     "output_type": "execute_result"
    }
   ],
   "source": [
    "input( \"Enter an integer: \" )"
   ]
  },
  {
   "cell_type": "code",
   "execution_count": 13,
   "metadata": {},
   "outputs": [
    {
     "name": "stdout",
     "output_type": "stream",
     "text": [
      "1007596\n",
      "8\n"
     ]
    }
   ],
   "source": [
    "#!/bin/python3\n",
    "\n",
    "import math\n",
    "import os\n",
    "import random\n",
    "import re\n",
    "import sys\n",
    "\n",
    "def dec_to_binStr(num):\n",
    "    return str(bin(num)[2:])\n",
    "\n",
    "if __name__ == '__main__':\n",
    "    n = int(input())\n",
    "    binStr = dec_to_binStr(n)\n",
    "    maxOnes = 0\n",
    "    onesCt = 0\n",
    "    for num in binStr:\n",
    "        if num == \"1\":\n",
    "            onesCt += 1\n",
    "        else:\n",
    "            if onesCt > maxOnes:\n",
    "                maxOnes = onesCt\n",
    "            onesCt = 0\n",
    "    if onesCt > maxOnes:\n",
    "        maxOnes = onesCt\n",
    "    print(maxOnes)"
   ]
  },
  {
   "cell_type": "code",
   "execution_count": 49,
   "metadata": {},
   "outputs": [],
   "source": [
    "arr = [ [1, 1, 1, 0, 0, 0], # 0\n",
    "        [0, 1, 0, 0, 0, 0], # 1\n",
    "        [1, 1, 1, 0, 0, 0], # 2\n",
    "        [0, 0, 2, 4, 4, 0], # 3\n",
    "        [0, 0, 0, 2, 0, 0], # 4\n",
    "        [0, 0, 1, 2, 4, 0] ]# 5"
   ]
  },
  {
   "cell_type": "code",
   "execution_count": 51,
   "metadata": {},
   "outputs": [],
   "source": [
    "arr = [ [ -1, -1,  0, -9, -2, -2 ],\n",
    "        [ -2, -1, -6, -8, -2, -5 ],\n",
    "        [ -1, -1, -1, -2, -3, -4 ],\n",
    "        [ -1, -9, -2, -4, -4, -5 ],\n",
    "        [ -7, -3, -3, -2, -9, -9 ],\n",
    "        [ -1, -3, -1, -2 ] ]"
   ]
  },
  {
   "cell_type": "code",
   "execution_count": 53,
   "metadata": {},
   "outputs": [],
   "source": [
    "arr = [ [  0, -4, -6,  0, -7, -6 ], \n",
    "        [ -1, -2, -6, -8, -3, -1 ],\n",
    "        [ -8, -4, -2, -8, -8, -6 ],\n",
    "        [ -3, -1, -2, -5, -7, -4 ],\n",
    "        [ -3, -5, -3, -6, -6, -6 ],\n",
    "        [ -3, -6,  0, -8, -6 ] ]"
   ]
  },
  {
   "cell_type": "code",
   "execution_count": 38,
   "metadata": {},
   "outputs": [
    {
     "data": {
      "text/plain": [
       "6"
      ]
     },
     "execution_count": 38,
     "metadata": {},
     "output_type": "execute_result"
    }
   ],
   "source": [
    "len(max(arr, key=len))"
   ]
  },
  {
   "cell_type": "code",
   "execution_count": 54,
   "metadata": {},
   "outputs": [
    {
     "name": "stdout",
     "output_type": "stream",
     "text": [
      "new row = 0\n",
      "new row = 1\n",
      "new row = 2\n",
      "val = -26\n",
      "new row = 1\n",
      "new row = 2\n",
      "new row = 3\n",
      "val = -19\n",
      "new row = 2\n",
      "new row = 3\n",
      "new row = 4\n",
      "val = -26\n",
      "new row = 3\n",
      "new row = 4\n",
      "new row = 5\n",
      "[-3, -6, 0, -8, -6, 0]\n",
      "val = -20\n",
      "-19\n"
     ]
    }
   ],
   "source": [
    "    maxVal = -63\n",
    "    maxLen = len(max(arr, key=len))\n",
    "    for rowCt in range(0,len(arr)-2):\n",
    "        row = []\n",
    "        for ct in range(0,3):\n",
    "            newRow = rowCt + ct\n",
    "            print( \"new row = {}\".format(newRow))\n",
    "            row.append( arr[newRow] )\n",
    "            while len(row[ct]) != maxLen:\n",
    "                row[ct].append(0)\n",
    "                print( row[ct] )\n",
    "        for colCt in range(0,len(row)-2):\n",
    "            val = row[0][colCt] + row[0][colCt+1] + row[0][colCt+2] + row[1][colCt+1] + row[2][colCt] + row[2][colCt+1] + row[2][colCt+2]\n",
    "            print( \"val = {}\".format(val))\n",
    "            if val > maxVal:\n",
    "                maxVal = val\n",
    "    print(maxVal)"
   ]
  },
  {
   "cell_type": "code",
   "execution_count": 55,
   "metadata": {},
   "outputs": [
    {
     "name": "stdout",
     "output_type": "stream",
     "text": [
      "-19\n"
     ]
    }
   ],
   "source": [
    "    maxVal = -63\n",
    "    maxLen = len(max(arr, key=len))\n",
    "    for rowCt in range(0,len(arr)-2):\n",
    "        row = []\n",
    "        for ct in range(0,3):\n",
    "            newRow = rowCt + ct\n",
    "            row.append( arr[newRow] )\n",
    "            minLen = len(min(arr, key=len))\n",
    "        for colCt in range(0,minLen-2):\n",
    "            val = row[0][colCt] + row[0][colCt+1] + row[0][colCt+2] + row[1][colCt+1] + row[2][colCt] + row[2][colCt+1] + row[2][colCt+2]\n",
    "            if val > maxVal:\n",
    "                maxVal = val\n",
    "    print(maxVal)"
   ]
  },
  {
   "cell_type": "code",
   "execution_count": null,
   "metadata": {},
   "outputs": [],
   "source": []
  }
 ],
 "metadata": {
  "kernelspec": {
   "display_name": "Python 3",
   "language": "python",
   "name": "python3"
  },
  "language_info": {
   "codemirror_mode": {
    "name": "ipython",
    "version": 3
   },
   "file_extension": ".py",
   "mimetype": "text/x-python",
   "name": "python",
   "nbconvert_exporter": "python",
   "pygments_lexer": "ipython3",
   "version": "3.6.5"
  }
 },
 "nbformat": 4,
 "nbformat_minor": 2
}
