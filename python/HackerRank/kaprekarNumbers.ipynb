{
 "cells": [
  {
   "cell_type": "code",
   "execution_count": 9,
   "metadata": {},
   "outputs": [
    {
     "name": "stdout",
     "output_type": "stream",
     "text": [
      "1\n",
      "99999\n",
      "1 9 45 55 99 297 703 999 2223 2728 4950 5050 7272 7777 9999 17344 22222 77778 82656 95121 99999\n"
     ]
    }
   ],
   "source": [
    "#!/bin/python3\n",
    "\n",
    "import math\n",
    "import os\n",
    "import random\n",
    "import re\n",
    "import sys\n",
    "\n",
    "# Complete the kaprekarNumbers function below.\n",
    "def kaprekarNumbers(p, q):\n",
    "    kNums = []\n",
    "    for num in range(p,q+1):\n",
    "        strNum = str(num**2)\n",
    "        halfLen = int(math.floor(len(strNum)/2))\n",
    "        first,second = strNum[:halfLen], strNum[halfLen:]\n",
    "        #print(\"strNum: {}, first: {}, second: {}\".format(strNum,first,second))\n",
    "        try:\n",
    "            first = int(first)\n",
    "        except:\n",
    "            first = 0\n",
    "            \n",
    "        try:\n",
    "            second = int(second)\n",
    "        except:\n",
    "            second = 0\n",
    "            \n",
    "        sum = first + second\n",
    "        if sum == num:\n",
    "            kNums.append(str(num))\n",
    "        \n",
    "    if len(kNums) > 0:\n",
    "        output = \" \".join(kNums)\n",
    "    else:\n",
    "        output = \"INVALID RANGE\"\n",
    "            \n",
    "    print(output)\n",
    "            \n",
    "\n",
    "if __name__ == '__main__':\n",
    "    p = int(input())\n",
    "\n",
    "    q = int(input())\n",
    "\n",
    "    kaprekarNumbers(p, q)\n"
   ]
  },
  {
   "cell_type": "code",
   "execution_count": null,
   "metadata": {},
   "outputs": [],
   "source": []
  }
 ],
 "metadata": {
  "kernelspec": {
   "display_name": "Python 3",
   "language": "python",
   "name": "python3"
  },
  "language_info": {
   "codemirror_mode": {
    "name": "ipython",
    "version": 3
   },
   "file_extension": ".py",
   "mimetype": "text/x-python",
   "name": "python",
   "nbconvert_exporter": "python",
   "pygments_lexer": "ipython3",
   "version": "3.6.5"
  }
 },
 "nbformat": 4,
 "nbformat_minor": 2
}
