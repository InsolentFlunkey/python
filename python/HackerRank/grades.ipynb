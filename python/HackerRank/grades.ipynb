{
 "cells": [
  {
   "cell_type": "code",
   "execution_count": 16,
   "metadata": {},
   "outputs": [],
   "source": [
    "#!/bin/python3\n",
    "\n",
    "\n",
    "#\n",
    "# Complete the gradingStudents function below.\n",
    "#\n",
    "def gradingStudents(grades):\n",
    "    new_grades = []\n",
    "    for grade in grades:\n",
    "        ct = 0\n",
    "        new_grade = grade\n",
    "        if new_grade >= 38:\n",
    "            while new_grade % 5 != 0:\n",
    "                print( \"New Grade: {}, Count: {}\".format( new_grade, ct ))\n",
    "                new_grade += 1\n",
    "                ct += 1\n",
    "            if ct <= 2:\n",
    "                grade = new_grade\n",
    "        new_grades.append(grade)\n",
    "    return new_grades\n",
    "\n",
    "\n"
   ]
  },
  {
   "cell_type": "code",
   "execution_count": 17,
   "metadata": {},
   "outputs": [],
   "source": [
    "grades = [ 73,67,38,33]"
   ]
  },
  {
   "cell_type": "code",
   "execution_count": 18,
   "metadata": {},
   "outputs": [
    {
     "name": "stdout",
     "output_type": "stream",
     "text": [
      "New Grade: 73, Count: 0\n",
      "New Grade: 74, Count: 1\n",
      "New Grade: 67, Count: 0\n",
      "New Grade: 68, Count: 1\n",
      "New Grade: 69, Count: 2\n",
      "New Grade: 38, Count: 0\n",
      "New Grade: 39, Count: 1\n"
     ]
    }
   ],
   "source": [
    "new = gradingStudents(grades)"
   ]
  },
  {
   "cell_type": "code",
   "execution_count": 19,
   "metadata": {},
   "outputs": [
    {
     "data": {
      "text/plain": [
       "[75, 67, 40, 33]"
      ]
     },
     "execution_count": 19,
     "metadata": {},
     "output_type": "execute_result"
    }
   ],
   "source": [
    "new"
   ]
  },
  {
   "cell_type": "code",
   "execution_count": null,
   "metadata": {},
   "outputs": [],
   "source": []
  }
 ],
 "metadata": {
  "kernelspec": {
   "display_name": "Python 3",
   "language": "python",
   "name": "python3"
  },
  "language_info": {
   "codemirror_mode": {
    "name": "ipython",
    "version": 3
   },
   "file_extension": ".py",
   "mimetype": "text/x-python",
   "name": "python",
   "nbconvert_exporter": "python",
   "pygments_lexer": "ipython3",
   "version": "3.6.5"
  }
 },
 "nbformat": 4,
 "nbformat_minor": 2
}
