{
 "cells": [
  {
   "cell_type": "code",
   "execution_count": 11,
   "metadata": {},
   "outputs": [
    {
     "name": "stdout",
     "output_type": "stream",
     "text": [
      "Name: riya, Email: riya@gmail.com\n",
      "riya matches\n",
      "Name: julia, Email: julia@julia.me\n",
      "Name: julia, Email: sjulia@gmail.com\n",
      "julia matches\n",
      "Name: julia, Email: julia@gmail.com\n",
      "julia matches\n",
      "Name: samantha, Email: samantha@gmail.com\n",
      "samantha matches\n",
      "Name: tanya, Email: tanya@gmail.com\n",
      "tanya matches\n",
      "julia\n",
      "julia\n",
      "riya\n",
      "samantha\n",
      "tanya\n"
     ]
    }
   ],
   "source": [
    "#!/bin/python3\n",
    "\n",
    "import math\n",
    "import os\n",
    "import random\n",
    "import re\n",
    "import sys\n",
    "\n",
    "\n",
    "\n",
    "if __name__ == '__main__':\n",
    "    \n",
    "    emailList = {}\n",
    "    \n",
    "    namesNemails = [\"riya riya@gmail.com\",\n",
    "                    \"julia julia@julia.me\",\n",
    "                    \"julia sjulia@gmail.com\",\n",
    "                    \"julia julia@gmail.com\",\n",
    "                    \"samantha samantha@gmail.com\",\n",
    "                    \"tanya tanya@gmail.com\"]\n",
    "\n",
    "    for nameEmail in namesNemails:\n",
    "        firstNameEmailID = nameEmail.split()\n",
    "\n",
    "        firstName = firstNameEmailID[0]\n",
    "        emailID = firstNameEmailID[1]\n",
    "        \n",
    "        #print(\"Name: {}, Email: {}\".format(firstName, emailID))\n",
    "        if re.match(r\"^.+@gmail.com$\",emailID):\n",
    "            print(\"{} matches\".format(firstName))\n",
    "            emailList[emailID] = firstName\n",
    "    \n",
    "    names = list(emailList.values())\n",
    "    names.sort()\n",
    "    for name in names:\n",
    "        print(name)\n",
    "    "
   ]
  },
  {
   "cell_type": "code",
   "execution_count": null,
   "metadata": {},
   "outputs": [],
   "source": []
  }
 ],
 "metadata": {
  "kernelspec": {
   "display_name": "Python 3",
   "language": "python",
   "name": "python3"
  },
  "language_info": {
   "codemirror_mode": {
    "name": "ipython",
    "version": 3
   },
   "file_extension": ".py",
   "mimetype": "text/x-python",
   "name": "python",
   "nbconvert_exporter": "python",
   "pygments_lexer": "ipython3",
   "version": "3.6.5"
  }
 },
 "nbformat": 4,
 "nbformat_minor": 2
}
