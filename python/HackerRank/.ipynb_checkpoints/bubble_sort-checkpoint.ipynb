{
 "cells": [
  {
   "cell_type": "code",
   "execution_count": 4,
   "metadata": {},
   "outputs": [
    {
     "name": "stdout",
     "output_type": "stream",
     "text": [
      "3\n",
      "3 2 1\n",
      "[1, 2, 3]\n",
      "Array is sorted in 3 swaps.\n",
      "First Element: 1\n",
      "Last Element: 3\n"
     ]
    }
   ],
   "source": [
    "import sys\n",
    "\n",
    "n = int(input().strip())\n",
    "a = list(map(int, input().strip().split(' ')))\n",
    "# Write Your Code Here\n",
    "\n",
    "numSwaps = 0\n",
    "\n",
    "for i in range(0,n):\n",
    "    for j in range(0,n-1):\n",
    "        if a[j] > a[j+1]:\n",
    "            tempVal = a[j+1]\n",
    "            a[j+1] = a[j]\n",
    "            a[j] = tempVal\n",
    "            numSwaps += 1\n",
    "\n",
    "print(\"Array is sorted in {} swaps.\".format(numSwaps))\n",
    "print(\"First Element: {}\".format(a[0]))\n",
    "print(\"Last Element: {}\".format(a[-1]))"
   ]
  },
  {
   "cell_type": "code",
   "execution_count": null,
   "metadata": {},
   "outputs": [],
   "source": []
  }
 ],
 "metadata": {
  "kernelspec": {
   "display_name": "Python 3",
   "language": "python",
   "name": "python3"
  },
  "language_info": {
   "codemirror_mode": {
    "name": "ipython",
    "version": 3
   },
   "file_extension": ".py",
   "mimetype": "text/x-python",
   "name": "python",
   "nbconvert_exporter": "python",
   "pygments_lexer": "ipython3",
   "version": "3.6.5"
  }
 },
 "nbformat": 4,
 "nbformat_minor": 2
}
