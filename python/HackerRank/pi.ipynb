{
 "cells": [
  {
   "cell_type": "code",
   "execution_count": 19,
   "metadata": {},
   "outputs": [],
   "source": [
    "def calcPi(n):\n",
    "    add = True\n",
    "    pi = 0\n",
    "    for x in range(1,n,2):\n",
    "        if add:\n",
    "            pi = pi + 4/x\n",
    "            add = False\n",
    "        else:\n",
    "            pi = pi - 4/x\n",
    "            add = True\n",
    "    return pi"
   ]
  },
  {
   "cell_type": "code",
   "execution_count": 20,
   "metadata": {},
   "outputs": [
    {
     "data": {
      "text/plain": [
       "3.14159264958921"
      ]
     },
     "execution_count": 20,
     "metadata": {},
     "output_type": "execute_result"
    }
   ],
   "source": [
    "calcPi(500000000)"
   ]
  },
  {
   "cell_type": "code",
   "execution_count": 24,
   "metadata": {},
   "outputs": [
    {
     "name": "stdout",
     "output_type": "stream",
     "text": [
      "Approximation of pi =  3.14159265415422\n"
     ]
    }
   ],
   "source": [
    "#This is a comment\n",
    "#starting value of x\n",
    "x=-1\n",
    "\n",
    "#step size  CHANGE THIS\n",
    "dx=0.0000001\n",
    "\n",
    "#the sum of all the areas - start at 0\n",
    "A=0\n",
    "\n",
    "#now for a loop to go through and add up all the \n",
    "#tiny rectangle areas\n",
    "while x<1:\n",
    "  #each area is sqrt(1-x**2)*dx\n",
    "  #add this area to the existing area\n",
    "  A=A+((1-x**2)**0.5)*dx\n",
    "  #now move x forward by an amount dx\n",
    "  x=x+dx\n",
    "  \n",
    "#end the loop\n",
    "#pi is twice the area\n",
    "tpi=2*A\n",
    "print(\"Approximation of pi = \",tpi)\n"
   ]
  },
  {
   "cell_type": "code",
   "execution_count": null,
   "metadata": {},
   "outputs": [],
   "source": []
  }
 ],
 "metadata": {
  "kernelspec": {
   "display_name": "Python 3",
   "language": "python",
   "name": "python3"
  },
  "language_info": {
   "codemirror_mode": {
    "name": "ipython",
    "version": 3
   },
   "file_extension": ".py",
   "mimetype": "text/x-python",
   "name": "python",
   "nbconvert_exporter": "python",
   "pygments_lexer": "ipython3",
   "version": "3.6.5"
  }
 },
 "nbformat": 4,
 "nbformat_minor": 2
}
