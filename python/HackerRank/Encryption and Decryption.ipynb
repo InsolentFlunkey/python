{
 "cells": [
  {
   "cell_type": "code",
   "execution_count": 33,
   "metadata": {},
   "outputs": [
    {
     "name": "stdout",
     "output_type": "stream",
     "text": [
      ">iso nugrf  tdlio msh dvometeg etaaa ohnsnnygda   t r vu w oowes atnuo   <\n"
     ]
    }
   ],
   "source": [
    "#!/bin/python3\n",
    "\n",
    "import math\n",
    "\n",
    "# Complete the encryption function below.\n",
    "def encryption(s):\n",
    "    #pattern = re.compile(r'\\s+')\n",
    "    #s = re.sub(pattern, '', s)\n",
    "    \n",
    "    numCols = math.ceil(len(s)**0.5)\n",
    "    \n",
    "    chunks = list(s[i:i+numCols] for i in range(0, len(s), numCols))\n",
    "    \n",
    "    # If the length of the last chunk isn't a full row, pad it with spaces\n",
    "    if len(chunks[-1]) < numCols:\n",
    "        chunks[-1] = chunks[-1].ljust(numCols)\n",
    "    \n",
    "    words = [\"\"] * numCols\n",
    "    \n",
    "    for rowCt in range(len(chunks)):\n",
    "        for colCt in range(len(chunks[rowCt])):\n",
    "            words[colCt] = words[colCt] + chunks[rowCt][colCt]\n",
    "    \n",
    "    encoded = \"\".join(words)\n",
    "    return encoded\n",
    "\n",
    "if __name__ == '__main__':\n",
    "\n",
    "    #s = input()\n",
    "    #s = \"the quick brown fox jumped over the lazy dog twice\"\n",
    "    s = \"if man was meant to stay on the ground god would have given us roots\"\n",
    "    \n",
    "    # Grid:\n",
    "    # ifmanwas  \n",
    "    # meanttos          \n",
    "    # tayonthe  \n",
    "    # groundgo  \n",
    "    # dwouldha  \n",
    "    # vegivenu  \n",
    "    # sroots\n",
    "    \n",
    "    # Output:\n",
    "    # imtgdvs fearwer mayoogo anouuio ntnnlvt wttddes aohghn sseoau\n",
    "\n",
    "    result = encryption(s)\n",
    "    print(\">{}<\".format(result))"
   ]
  },
  {
   "cell_type": "code",
   "execution_count": 34,
   "metadata": {},
   "outputs": [
    {
     "name": "stdout",
     "output_type": "stream",
     "text": [
      "iso nugrf  tdlio msh dvometeg etaaa ohnsnnygda   t r vu w oowes atnuo   \n",
      "if man was meant to stay on the ground god would have given us roots    \n"
     ]
    }
   ],
   "source": [
    "#!/bin/python3\n",
    "\n",
    "import math\n",
    "\n",
    "def decryption(s):\n",
    "    \n",
    "    numCols = math.floor(len(s)**0.5)\n",
    "    \n",
    "    chunks = list(s[i:i+numCols] for i in range(0, len(s), numCols))\n",
    "        \n",
    "    words = [\"\"] * numCols\n",
    "    \n",
    "    for rowCt in range(len(chunks)):\n",
    "        for colCt in range(len(chunks[rowCt])):\n",
    "            words[colCt] = words[colCt] + chunks[rowCt][colCt]\n",
    "    \n",
    "    decoded = \"\".join(words)\n",
    "    return decoded\n",
    "\n",
    "if __name__ == '__main__':\n",
    "\n",
    "    s = input()\n",
    "    #s = \"the quick brown fox jumped over the lazy dog twice\"\n",
    "    #s = \"iso nugrf  tdlio msh dvometeg etaaa ohnsnnygda   t r vu w oowes atnuo   \"\n",
    "\n",
    "    result = decryption(s)\n",
    "    print(result)"
   ]
  },
  {
   "cell_type": "code",
   "execution_count": null,
   "metadata": {},
   "outputs": [],
   "source": []
  }
 ],
 "metadata": {
  "kernelspec": {
   "display_name": "Python 3",
   "language": "python",
   "name": "python3"
  },
  "language_info": {
   "codemirror_mode": {
    "name": "ipython",
    "version": 3
   },
   "file_extension": ".py",
   "mimetype": "text/x-python",
   "name": "python",
   "nbconvert_exporter": "python",
   "pygments_lexer": "ipython3",
   "version": "3.6.5"
  }
 },
 "nbformat": 4,
 "nbformat_minor": 2
}
