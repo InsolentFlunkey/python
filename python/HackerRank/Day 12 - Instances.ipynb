{
 "cells": [
  {
   "cell_type": "code",
   "execution_count": 1,
   "metadata": {},
   "outputs": [],
   "source": [
    "class Person:\n",
    "    def __init__(self, firstName, lastName, idNumber):\n",
    "        self.firstName = firstName\n",
    "        self.lastName = lastName\n",
    "        self.idNumber = idNumber\n",
    "    def printPerson(self):\n",
    "        print(\"Name:\", self.lastName + \",\", self.firstName)\n",
    "        print(\"ID:\", self.idNumber)"
   ]
  },
  {
   "cell_type": "code",
   "execution_count": 15,
   "metadata": {},
   "outputs": [],
   "source": [
    "# Have to use lame workaround because the locked code is faulty.  Thanks to https://www.hackerrank.com/jflakwijk !\n",
    "print_object = print\n",
    "\n",
    "def print(*items_to_print):\n",
    "    if 'Grade: ' in items_to_print:\n",
    "        items_to_print = map(str, items_to_print)\n",
    "        \n",
    "        print_object(''.join(items_to_print))\n",
    "    else:\n",
    "        print_object(*items_to_print)\n",
    "        \n",
    "class Student(Person):\n",
    "    #   Class Constructor\n",
    "    #   \n",
    "    #   Parameters:\n",
    "    #   firstName - A string denoting the Person's first name.\n",
    "    #   lastName - A string denoting the Person's last name.\n",
    "    #   id - An integer denoting the Person's ID number.\n",
    "    #   scores - An array of integers denoting the Person's test scores.\n",
    "    #\n",
    "    # Write your constructor here\n",
    "    def __init__(self,firstName,lastName,idNumber,scores):\n",
    "        Person.__init__(self,firstName,lastName,idNumber)\n",
    "        self.scores = scores\n",
    "\n",
    "    #   Function Name: calculate\n",
    "    #   Return: A character denoting the grade.\n",
    "    #\n",
    "    # Write your function here\n",
    "    def calculate(self):\n",
    "        avg = sum(scores)/len(scores)\n",
    "        if 90 <= avg <= 100:\n",
    "            return \"O\"\n",
    "        elif 80 <= avg < 90:\n",
    "            return \"E\"\n",
    "        elif 70 <= avg < 80:\n",
    "            return \"A\"\n",
    "        elif 55 <= avg < 70:\n",
    "            return \"P\"\n",
    "        elif 40 <= avg < 55:\n",
    "            return \"D\"\n",
    "        elif avg < 40:\n",
    "            return \"T\"\n",
    "        else:\n",
    "            return avgScore"
   ]
  },
  {
   "cell_type": "code",
   "execution_count": 16,
   "metadata": {},
   "outputs": [
    {
     "name": "stdout",
     "output_type": "stream",
     "text": [
      "bryan keary 234\n",
      "3\n",
      "100 80\n",
      "Name: keary, bryan\n",
      "ID: 234\n",
      "Grade: O\n"
     ]
    }
   ],
   "source": [
    "line = input().split()\n",
    "firstName = line[0]\n",
    "lastName = line[1]\n",
    "idNum = line[2]\n",
    "numScores = int(input()) # not needed for Python\n",
    "scores = list( map(int, input().split()) )\n",
    "s = Student(firstName, lastName, idNum, scores)\n",
    "s.printPerson()\n",
    "print(\"Grade: \", s.calculate())"
   ]
  },
  {
   "cell_type": "code",
   "execution_count": null,
   "metadata": {},
   "outputs": [],
   "source": []
  }
 ],
 "metadata": {
  "kernelspec": {
   "display_name": "Python 3",
   "language": "python",
   "name": "python3"
  },
  "language_info": {
   "codemirror_mode": {
    "name": "ipython",
    "version": 3
   },
   "file_extension": ".py",
   "mimetype": "text/x-python",
   "name": "python",
   "nbconvert_exporter": "python",
   "pygments_lexer": "ipython3",
   "version": "3.6.5"
  }
 },
 "nbformat": 4,
 "nbformat_minor": 2
}
