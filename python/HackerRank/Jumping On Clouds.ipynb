{
 "cells": [
  {
   "cell_type": "code",
   "execution_count": 9,
   "metadata": {},
   "outputs": [
    {
     "name": "stdout",
     "output_type": "stream",
     "text": [
      "0 0 1 0 0 0 0 1 0 0\n",
      "Pos: 0, Jumps: 0\n",
      "Pos: 1, Jumps: 1\n",
      "Pos: 3, Jumps: 2\n",
      "Pos: 5, Jumps: 3\n",
      "Pos: 6, Jumps: 4\n",
      "Pos: 8, Jumps: 5\n",
      "Pos: 9, Jumps: 6\n",
      "Pos: 9, Jumps: 6\n",
      "Pos: 9, Jumps: 6\n",
      "Pos: 9, Jumps: 6\n",
      "6\n"
     ]
    }
   ],
   "source": [
    "#!/bin/python3\n",
    "\n",
    "import math\n",
    "import os\n",
    "import random\n",
    "import re\n",
    "import sys\n",
    "\n",
    "# Complete the jumpingOnClouds function below.\n",
    "def jumpingOnClouds(c):\n",
    "    \n",
    "    jumps = 0\n",
    "    pos = 0\n",
    "    for ct in range(len(c)):\n",
    "        print(\"Pos: {}, Jumps: {}\".format(pos,jumps))\n",
    "        try:\n",
    "            if c[pos+2] == 0:\n",
    "                pos += 2\n",
    "            else:\n",
    "                pos += 1\n",
    "            jumps += 1\n",
    "        except:\n",
    "            try:\n",
    "                if c[pos+1] == 0:\n",
    "                    pos += 1\n",
    "                jumps += 1\n",
    "            except:\n",
    "                pass\n",
    "            \n",
    "    return jumps\n",
    "\n",
    "if __name__ == '__main__':\n",
    "\n",
    "    c = list(map(int, input().rstrip().split()))\n",
    "\n",
    "    result = jumpingOnClouds(c)\n",
    "\n",
    "    print(result)"
   ]
  },
  {
   "cell_type": "code",
   "execution_count": null,
   "metadata": {},
   "outputs": [],
   "source": []
  }
 ],
 "metadata": {
  "kernelspec": {
   "display_name": "Python 3",
   "language": "python",
   "name": "python3"
  },
  "language_info": {
   "codemirror_mode": {
    "name": "ipython",
    "version": 3
   },
   "file_extension": ".py",
   "mimetype": "text/x-python",
   "name": "python",
   "nbconvert_exporter": "python",
   "pygments_lexer": "ipython3",
   "version": "3.6.5"
  }
 },
 "nbformat": 4,
 "nbformat_minor": 2
}
